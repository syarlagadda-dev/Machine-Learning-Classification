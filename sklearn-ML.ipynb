{
 "cells": [
  {
   "cell_type": "markdown",
   "id": "56cb7db6",
   "metadata": {},
   "source": [
    "Pip Installs"
   ]
  },
  {
   "cell_type": "code",
   "execution_count": 1,
   "id": "962fb9d6",
   "metadata": {},
   "outputs": [
    {
     "name": "stdout",
     "output_type": "stream",
     "text": [
      "Requirement already satisfied: scikit-learn in c:\\users\\susha\\anaconda3\\lib\\site-packages (1.6.1)\n"
     ]
    },
    {
     "name": "stderr",
     "output_type": "stream",
     "text": [
      "ERROR: Could not find a version that satisfies the requirement as (from versions: none)\n",
      "ERROR: No matching distribution found for as\n"
     ]
    }
   ],
   "source": [
    "!pip install scikit-learn as sklearn"
   ]
  },
  {
   "cell_type": "markdown",
   "id": "b7296030",
   "metadata": {},
   "source": [
    "Imports"
   ]
  },
  {
   "cell_type": "code",
   "execution_count": 2,
   "id": "cef668af",
   "metadata": {},
   "outputs": [],
   "source": [
    "import pandas as pd # for working with data\n",
    "import numpy as np # for working with data\n",
    "import seaborn as sns # for making visualizations\n",
    "from matplotlib import pyplot as plt # for making visualizations\n",
    "import sklearn\n",
    "from sklearn.model_selection import train_test_split\n",
    "from sklearn import tree\n",
    "from sklearn import metrics\n",
    "from sklearn.metrics import classification_report, confusion_matrix"
   ]
  }
 ],
 "metadata": {
  "kernelspec": {
   "display_name": "base",
   "language": "python",
   "name": "python3"
  },
  "language_info": {
   "codemirror_mode": {
    "name": "ipython",
    "version": 3
   },
   "file_extension": ".py",
   "mimetype": "text/x-python",
   "name": "python",
   "nbconvert_exporter": "python",
   "pygments_lexer": "ipython3",
   "version": "3.13.5"
  }
 },
 "nbformat": 4,
 "nbformat_minor": 5
}
